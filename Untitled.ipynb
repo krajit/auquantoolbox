{
 "cells": [
  {
   "cell_type": "code",
   "execution_count": 11,
   "id": "a621d349-62f3-4970-895a-3e21859e461d",
   "metadata": {},
   "outputs": [
    {
     "name": "stderr",
     "output_type": "stream",
     "text": [
      "2021-10-06 00:34:26.392607: W tensorflow/stream_executor/platform/default/dso_loader.cc:64] Could not load dynamic library 'cudart64_110.dll'; dlerror: cudart64_110.dll not found\n",
      "2021-10-06 00:34:26.392722: I tensorflow/stream_executor/cuda/cudart_stub.cc:29] Ignore above cudart dlerror if you do not have a GPU set up on your machine.\n",
      "usage: tensorboard [-h] [--helpfull] {serve,dev} ...\n",
      "tensorboard: error: unrecognized arguments: tb_logs/20211005_235025/prediction\n"
     ]
    }
   ],
   "source": [
    "!tensorboard serve --logdir mylogdir \"tb_logs/20211005_235025/prediction\""
   ]
  },
  {
   "cell_type": "code",
   "execution_count": 2,
   "id": "6384b1bc-6cea-4b25-a3a9-38cd11365f5f",
   "metadata": {},
   "outputs": [],
   "source": [
    "import tensorflow as tf"
   ]
  },
  {
   "cell_type": "code",
   "execution_count": 6,
   "id": "eff7f737-3fd6-4f52-b7b4-161b0f3eb3d7",
   "metadata": {},
   "outputs": [],
   "source": [
    "%load_ext tensorboard"
   ]
  },
  {
   "cell_type": "code",
   "execution_count": null,
   "id": "6f455d43-389c-4821-a598-be4430a4b68a",
   "metadata": {},
   "outputs": [],
   "source": []
  }
 ],
 "metadata": {
  "kernelspec": {
   "display_name": "Python 3 (ipykernel)",
   "language": "python",
   "name": "python3"
  },
  "language_info": {
   "codemirror_mode": {
    "name": "ipython",
    "version": 3
   },
   "file_extension": ".py",
   "mimetype": "text/x-python",
   "name": "python",
   "nbconvert_exporter": "python",
   "pygments_lexer": "ipython3",
   "version": "3.8.11"
  }
 },
 "nbformat": 4,
 "nbformat_minor": 5
}
